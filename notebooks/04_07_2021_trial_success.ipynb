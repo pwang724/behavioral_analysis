{
 "cells": [
  {
   "cell_type": "code",
   "execution_count": 1,
   "metadata": {
    "collapsed": true
   },
   "outputs": [],
   "source": [
    "import tools\n",
    "%load_ext autoreload\n",
    "%autoreload 2\n",
    "\n",
    "import matplotlib.pyplot as plt\n",
    "import numpy as np\n",
    "import seaborn as sns\n",
    "import os\n",
    "import base\n",
    "import anz\n",
    "import tools\n",
    "import pandas as pd\n",
    "import data_config\n",
    "import viz\n",
    "from scipy.signal import savgol_filter\n",
    "plt.rcParams['figure.facecolor'] = 'white'\n",
    "plt.rcParams.update({'font.size': 16})\n",
    "\n",
    "from pathlib import Path\n",
    "path = Path(os.getcwd())\n",
    "project_path = path.parent.absolute()\n",
    "figure_path = os.path.join(project_path, '_FIGURES')"
   ]
  },
  {
   "cell_type": "code",
   "execution_count": 2,
   "outputs": [],
   "source": [
    "mice_dict = data_config.pilot.mice_dict\n"
   ],
   "metadata": {
    "collapsed": false,
    "pycharm": {
     "name": "#%%\n"
    }
   }
  },
  {
   "cell_type": "code",
   "execution_count": 3,
   "outputs": [
    {
     "name": "stdout",
     "output_type": "stream",
     "text": [
      "more than 1 dropped region\n",
      "more than 1 dropped region\n",
      "more than 1 dropped region\n",
      "more than 1 dropped region\n"
     ]
    }
   ],
   "source": [
    "from collections import defaultdict\n",
    "dd = defaultdict(list)\n",
    "for mouse, (dates, epochs) in mice_dict.items():\n",
    "    trial_success_per_day = []\n",
    "    for date in dates:\n",
    "        analyzed_dir = os.path.join(r'C:\\Users\\Peter\\Desktop\\ANALYZED', mouse, date)\n",
    "        csv = os.path.join(analyzed_dir, 'notes.csv')\n",
    "        df = pd.read_csv(csv)\n",
    "        mask = df['mask'].to_numpy() > 0\n",
    "        save_dir = os.path.join(os.getcwd(), '_FIGURES')\n",
    "\n",
    "        label_regions_per_video, label_names = anz._get_labels(\n",
    "            os.path.join(analyzed_dir, 'LABELS'))\n",
    "        trial_outcomes = []\n",
    "        grab_outcomes = []\n",
    "        trial_success = []\n",
    "        for i, label_regions in enumerate(label_regions_per_video):\n",
    "            dropped_regions = label_regions['dropped']\n",
    "            grabbed_regions = label_regions['grab']\n",
    "            chew_regions = label_regions['chew']\n",
    "            # chew region has to be greater than 50 consecutive\n",
    "            chew_regions = [x for x in chew_regions if (x[1]-x[0]) > 50]\n",
    "            # some insurance pellet drops at the start of trials, filter that out\n",
    "            dropped_regions = [x for x in dropped_regions if x[0] > 30]\n",
    "            outcome = anz.outcome_truth_table(dropped_regions,\n",
    "                                              chew_regions,\n",
    "                                              grabbed_regions)\n",
    "            trial_outcomes.append(outcome)\n",
    "            grab_outcome = anz.grab_truth_table(outcome,\n",
    "                                                grabbed_regions,\n",
    "                                                chew_regions,\n",
    "                                                dropped_regions)\n",
    "            grab_outcomes.append(grab_outcome)\n",
    "            if not mask[i]:\n",
    "                trial_success.append(np.nan)\n",
    "            elif outcome in [base.OUTCOME.SUCCESS or base.OUTCOME.DROP_FP]:\n",
    "                trial_success.append(1)\n",
    "            else:\n",
    "                trial_success.append(0)\n",
    "        trial_success_per_day.append(trial_success)\n",
    "\n",
    "    s = np.nan\n",
    "    for i, epoch in enumerate(epochs):\n",
    "        epoch_data = []\n",
    "        start_ix = dates.index(epoch[0])\n",
    "        end_ix = dates.index(epoch[2])\n",
    "\n",
    "        epoch_data.append(trial_success_per_day[start_ix][epoch[1]:])\n",
    "        for j in range(start_ix+1, end_ix):\n",
    "            epoch_data.append(trial_success_per_day[j][:])\n",
    "        epoch_data.append(trial_success_per_day[end_ix][:epoch[3]])\n",
    "        epoch_data = [x for y in epoch_data for x in y if x is not np.nan]\n",
    "\n",
    "        dd['Mouse'].append(mouse)\n",
    "        dd['Epoch'].append(i)\n",
    "        dd['Success Rate'].append(epoch_data)\n",
    "        l = len(epoch_data)\n",
    "        if np.isnan(s):\n",
    "            s = 0-l\n",
    "        dd['Trials'].append(np.arange(s, s + l))\n",
    "        s += l"
   ],
   "metadata": {
    "collapsed": false,
    "pycharm": {
     "name": "#%%\n"
    }
   }
  },
  {
   "cell_type": "code",
   "execution_count": 5,
   "outputs": [
    {
     "name": "stderr",
     "output_type": "stream",
     "text": [
      "c:\\users\\peter\\anaconda3\\envs\\deg_env\\lib\\site-packages\\seaborn\\_decorators.py:43: FutureWarning: Pass the following variables as keyword args: x, y. From version 0.12, the only valid positional argument will be `data`, and passing other arguments without an explicit keyword will result in an error or misinterpretation.\n",
      "  FutureWarning\n",
      "c:\\users\\peter\\anaconda3\\envs\\deg_env\\lib\\site-packages\\seaborn\\_decorators.py:43: FutureWarning: Pass the following variables as keyword args: x, y. From version 0.12, the only valid positional argument will be `data`, and passing other arguments without an explicit keyword will result in an error or misinterpretation.\n",
      "  FutureWarning\n"
     ]
    },
    {
     "data": {
      "text/plain": "<Figure size 648x360 with 1 Axes>",
      "image/png": "[encoded data removed]"
     },
     "metadata": {},
     "output_type": "display_data"
    },
    {
     "name": "stdout",
     "output_type": "stream",
     "text": [
      "Figure saved at: C:\\Users\\Peter\\Desktop\\behavioral_analysis\\_FIGURES\\success_vs_trials\\fig\n"
     ]
    }
   ],
   "source": [
    "df = pd.DataFrame(dd)\n",
    "window_len = 9\n",
    "epoch_0 = 50\n",
    "epoch_1 = 50\n",
    "\n",
    "fig = plt.figure(figsize=(9, 5))\n",
    "rect = [0.25, 0.25, 0.6, 0.6]\n",
    "ax = fig.add_axes(rect)\n",
    "\n",
    "td = defaultdict(list)\n",
    "temp = df.query(\"Epoch == 0\")\n",
    "epoch_0_success = np.array([x[-epoch_0:] for x in temp['Success Rate']])\\\n",
    "    .astype(float)\n",
    "for i, x in enumerate(epoch_0_success):\n",
    "    y = tools.smooth(x, window_len=window_len, window='flat')\n",
    "    y = tools.smooth(y, window_len=5, window='flat')\n",
    "    for j, yv in enumerate(y):\n",
    "        td['x'].append(-len(y)+j)\n",
    "        td['y'].append(yv)\n",
    "        # td['mouse'].append(i)\n",
    "        # td['epoch'].append(0)\n",
    "\n",
    "sns.lineplot('x', 'y', data=td, ax=ax, color='black')\n",
    "\n",
    "td = defaultdict(list)\n",
    "temp = df.query(\"Epoch == 1\")\n",
    "epoch_1_success = np.array([x[:epoch_1] for x in temp['Success Rate']])\\\n",
    "    .astype(float)\n",
    "for i, x in enumerate(epoch_1_success):\n",
    "    y = tools.smooth(x, window_len=window_len, window='flat')\n",
    "    y = tools.smooth(y, window_len=5, window='flat')\n",
    "    for j, yv in enumerate(y):\n",
    "        td['x'].append(j)\n",
    "        td['y'].append(yv)\n",
    "        # td['mouse'].append(i)\n",
    "        # td['epoch'].append(1)\n",
    "\n",
    "sns.lineplot('x', 'y', data=td, ax=ax, color='red')\n",
    "\n",
    "plt.xticks([-epoch_0, 0, epoch_1], [-epoch_0, 0, epoch_1])\n",
    "plt.xlabel('Trials')\n",
    "plt.ylabel('Grab Success Rate')\n",
    "sns.despine()\n",
    "\n",
    "import plot_tools\n",
    "plot_tools.save_fig(os.path.join(figure_path, 'success_vs_trials'), 'fig',\n",
    "                    show=True)"
   ],
   "metadata": {
    "collapsed": false,
    "pycharm": {
     "name": "#%%\n"
    }
   }
  },
  {
   "cell_type": "code",
   "execution_count": null,
   "outputs": [],
   "source": [],
   "metadata": {
    "collapsed": false,
    "pycharm": {
     "name": "#%%\n"
    }
   }
  }
 ],
 "metadata": {
  "kernelspec": {
   "display_name": "Python 3",
   "language": "python",
   "name": "python3"
  },
  "language_info": {
   "codemirror_mode": {
    "name": "ipython",
    "version": 2
   },
   "file_extension": ".py",
   "mimetype": "text/x-python",
   "name": "python",
   "nbconvert_exporter": "python",
   "pygments_lexer": "ipython2",
   "version": "2.7.6"
  }
 },
 "nbformat": 4,
 "nbformat_minor": 0
}