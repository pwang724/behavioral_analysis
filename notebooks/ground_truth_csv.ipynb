{
 "cells": [
  {
   "cell_type": "code",
   "execution_count": 1,
   "metadata": {
    "collapsed": true
   },
   "outputs": [],
   "source": [
    "import matplotlib.pyplot as plt\n",
    "import numpy as np\n",
    "import pandas as pd\n",
    "import seaborn as sns\n",
    "import pprint\n",
    "import os\n",
    "import base\n",
    "import anz\n",
    "import viz\n",
    "import video_tools\n",
    "import glob\n",
    "import imageio\n",
    "plt.rcParams['figure.facecolor'] = 'white'"
   ]
  },
  {
   "cell_type": "code",
   "execution_count": null,
   "outputs": [],
   "source": [
    "analyzed_folder = r'C:\\Users\\Peter\\Desktop\\ANALYZED\\M9\\2021.03.05'\n",
    "os.makedirs(analyzed_folder, exist_ok=True)\n",
    "csv = os.path.join(analyzed_folder, 'notes.csv')\n",
    "if not os.path.exists(csv):\n",
    "    print(f'WRITE {csv}')\n",
    "    GROUND_TRUTH = ['FFFTFTFFTT'\n",
    "                    'TTTDTTTTTT'\n",
    "                    'TFTTTTTTT?'\n",
    "                    'TTTTFFTTTF'\n",
    "                    'FTTFTT?FF?']\n",
    "    mask = []\n",
    "    for c in GROUND_TRUTH[0]:\n",
    "        if c in ['T', 'F', 'L']:\n",
    "            mask.append(1)\n",
    "        else:\n",
    "            mask.append(0)\n",
    "\n",
    "    ground_truth = [x for x in GROUND_TRUTH[0]]\n",
    "    df = pd.DataFrame({'trial': np.arange(len(ground_truth)),\n",
    "                       'result': ground_truth,\n",
    "                       'mask': mask,\n",
    "                       'reason': [''] * len(ground_truth)})\n",
    "    df.to_csv(csv, index=False)\n",
    "    mask = np.ones(len(ground_truth))"
   ],
   "metadata": {
    "collapsed": false,
    "pycharm": {
     "name": "#%%\n"
    }
   }
  },
  {
   "cell_type": "code",
   "execution_count": null,
   "outputs": [],
   "source": [
    "# collage_folder = os.path.join(input_folder, 'ANALYZED', 'COLLAGE')\n",
    "# videos0 = [os.path.join(input_folder, x) for x in os.listdir(input_folder)\n",
    "#            if 'CAM0' in x]\n",
    "# videos0 = sorted(videos0)\n",
    "# video_tools.make_collage(videos0,\n",
    "#                          width=5,\n",
    "#                          height=4,\n",
    "#                          collage_folder=collage_folder,\n",
    "#                          savestr='CAM0')"
   ],
   "metadata": {
    "collapsed": false,
    "pycharm": {
     "name": "#%%\n"
    }
   }
  },
  {
   "cell_type": "code",
   "execution_count": 6,
   "outputs": [
    {
     "name": "stderr",
     "output_type": "stream",
     "text": [
      "t:   0%|          | 2/1600 [00:00<01:50, 14.50it/s, now=None]"
     ]
    },
    {
     "name": "stdout",
     "output_type": "stream",
     "text": [
      "Moviepy - Building video C:\\Users\\Peter\\Desktop\\DATA\\M9\\2021.03.12\\ANALYZED\\COLLAGE_DLC\\CAM0_0-19.mp4.\n",
      "Moviepy - Writing video C:\\Users\\Peter\\Desktop\\DATA\\M9\\2021.03.12\\ANALYZED\\COLLAGE_DLC\\CAM0_0-19.mp4\n",
      "\n"
     ]
    },
    {
     "name": "stderr",
     "output_type": "stream",
     "text": [
      "                                                                \r"
     ]
    },
    {
     "name": "stdout",
     "output_type": "stream",
     "text": [
      "Moviepy - Done !\n",
      "Moviepy - video ready C:\\Users\\Peter\\Desktop\\DATA\\M9\\2021.03.12\\ANALYZED\\COLLAGE_DLC\\CAM0_0-19.mp4\n"
     ]
    },
    {
     "name": "stderr",
     "output_type": "stream",
     "text": [
      "t:   0%|          | 2/1600 [00:00<01:39, 16.13it/s, now=None]"
     ]
    },
    {
     "name": "stdout",
     "output_type": "stream",
     "text": [
      "Moviepy - Building video C:\\Users\\Peter\\Desktop\\DATA\\M9\\2021.03.12\\ANALYZED\\COLLAGE_DLC\\CAM0_20-39.mp4.\n",
      "Moviepy - Writing video C:\\Users\\Peter\\Desktop\\DATA\\M9\\2021.03.12\\ANALYZED\\COLLAGE_DLC\\CAM0_20-39.mp4\n",
      "\n"
     ]
    },
    {
     "name": "stderr",
     "output_type": "stream",
     "text": [
      "                                                                \r"
     ]
    },
    {
     "name": "stdout",
     "output_type": "stream",
     "text": [
      "Moviepy - Done !\n",
      "Moviepy - video ready C:\\Users\\Peter\\Desktop\\DATA\\M9\\2021.03.12\\ANALYZED\\COLLAGE_DLC\\CAM0_20-39.mp4\n"
     ]
    },
    {
     "name": "stderr",
     "output_type": "stream",
     "text": [
      "t:   0%|          | 2/1600 [00:00<01:37, 16.40it/s, now=None]"
     ]
    },
    {
     "name": "stdout",
     "output_type": "stream",
     "text": [
      "Moviepy - Building video C:\\Users\\Peter\\Desktop\\DATA\\M9\\2021.03.12\\ANALYZED\\COLLAGE_DLC\\CAM0_40-59.mp4.\n",
      "Moviepy - Writing video C:\\Users\\Peter\\Desktop\\DATA\\M9\\2021.03.12\\ANALYZED\\COLLAGE_DLC\\CAM0_40-59.mp4\n",
      "\n"
     ]
    },
    {
     "name": "stderr",
     "output_type": "stream",
     "text": [
      "                                                                \r"
     ]
    },
    {
     "name": "stdout",
     "output_type": "stream",
     "text": [
      "Moviepy - Done !\n",
      "Moviepy - video ready C:\\Users\\Peter\\Desktop\\DATA\\M9\\2021.03.12\\ANALYZED\\COLLAGE_DLC\\CAM0_40-59.mp4\n"
     ]
    }
   ],
   "source": [
    "analyzed_folder = r'C:\\Users\\Peter\\Desktop\\ANALYZED\\M9\\2021.03.05'\n",
    "collage_folder = os.path.join(analyzed_folder, 'COLLAGE_DLC')\n",
    "folder = os.path.join(analyzed_folder, 'VIDEOS_2D')\n",
    "videos0 = [os.path.join(folder, x) for x in os.listdir(folder)\n",
    "           if 'CAM0' in x]\n",
    "videos0 = sorted(videos0)\n",
    "video_tools.make_collage(videos0,\n",
    "                         width=5,\n",
    "                         height=4,\n",
    "                         collage_folder=collage_folder,\n",
    "                         savestr='CAM0')"
   ],
   "metadata": {
    "collapsed": false,
    "pycharm": {
     "name": "#%%\n"
    }
   }
  },
  {
   "cell_type": "code",
   "execution_count": null,
   "outputs": [],
   "source": [],
   "metadata": {
    "collapsed": false,
    "pycharm": {
     "name": "#%%\n"
    }
   }
  }
 ],
 "metadata": {
  "kernelspec": {
   "display_name": "Python 3",
   "language": "python",
   "name": "python3"
  },
  "language_info": {
   "codemirror_mode": {
    "name": "ipython",
    "version": 2
   },
   "file_extension": ".py",
   "mimetype": "text/x-python",
   "name": "python",
   "nbconvert_exporter": "python",
   "pygments_lexer": "ipython2",
   "version": "2.7.6"
  }
 },
 "nbformat": 4,
 "nbformat_minor": 0
}