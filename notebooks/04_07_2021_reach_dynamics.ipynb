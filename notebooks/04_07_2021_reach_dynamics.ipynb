{
 "cells": [
  {
   "cell_type": "code",
   "execution_count": 11,
   "metadata": {
    "collapsed": true,
    "pycharm": {
     "name": "#%%\n"
    }
   },
   "outputs": [
    {
     "name": "stdout",
     "output_type": "stream",
     "text": [
      "The autoreload extension is already loaded. To reload it, use:\n",
      "  %reload_ext autoreload\n"
     ]
    }
   ],
   "source": [
    "%load_ext autoreload\n",
    "%autoreload 2\n",
    "from matplotlib import animation\n",
    "import matplotlib\n",
    "matplotlib.use('Qt5Agg')\n",
    "import matplotlib.pyplot as plt\n",
    "import numpy as np\n",
    "import seaborn as sns\n",
    "import os\n",
    "import base\n",
    "import anz\n",
    "import viz\n",
    "import plot_tools\n",
    "plt.rcParams['figure.facecolor'] = 'white'\n",
    "plt.rcParams.update({'font.size': 16})"
   ]
  },
  {
   "cell_type": "code",
   "execution_count": 12,
   "outputs": [],
   "source": [
    "from pathlib import Path\n",
    "path = Path(os.getcwd())\n",
    "project_path = path.parent.absolute()\n",
    "figure_path = os.path.join(project_path, '_FIGURES')"
   ],
   "metadata": {
    "collapsed": false,
    "pycharm": {
     "name": "#%%\n"
    }
   }
  },
  {
   "cell_type": "code",
   "execution_count": 13,
   "outputs": [],
   "source": [
    "BPS_TRACK_LOCATION = ['r2_in', 'r3_in']\n",
    "BPS_TRACK_PAW = ['r1_in', 'r1_out',\n",
    "                 'r2_in', 'r2_out',\n",
    "                 'r3_in', 'r3_out',\n",
    "                 'r4_in', 'r4_out']\n",
    "BPS_TRACK_PELLET = ['pellet']\n",
    "\n",
    "mouse = 'M9'\n",
    "date = '2021.03.11'\n",
    "analyzed_dir = os.path.join(r'C:\\Users\\Peter\\Desktop\\ANALYZED', mouse, date)\n",
    "scheme = [['r1_in', 'r1_out'],\n",
    "          ['r2_in', 'r2_out'],\n",
    "          ['r3_in', 'r3_out'],\n",
    "          ['r4_in', 'r4_out'],\n",
    "          ['r1_in', 'r2_in', 'r3_in', 'r4_in'],\n",
    "          ['pellet'],\n",
    "          ['insured pellet']]\n",
    "save_dir = os.path.join(os.getcwd(), '_FIGURES')\n",
    "\n",
    "# load data\n",
    "bps_to_include = np.unique([x for y in scheme for x in y])\n",
    "bp_dict = {bp: i for i, bp in enumerate(bps_to_include)}\n",
    "marker_xys_per_video = anz._get_markers(\n",
    "    os.path.join(analyzed_dir, 'POSE_2D'),\n",
    "    bps_to_include,\n",
    "    base.CAMERA_NAMES)\n",
    "label_regions_per_video, label_names = anz._get_labels(\n",
    "    os.path.join(analyzed_dir, 'LABELS'))"
   ],
   "metadata": {
    "collapsed": false,
    "pycharm": {
     "name": "#%%\n"
    }
   }
  },
  {
   "cell_type": "code",
   "execution_count": 14,
   "outputs": [],
   "source": [
    "pellet_ix = bp_dict['pellet']\n",
    "xs = [marker_xys[0][pellet_ix, :, 0] for marker_xys in marker_xys_per_video]\n",
    "ys = [marker_xys[1][pellet_ix, :, 0] for marker_xys in marker_xys_per_video]\n",
    "zs = [marker_xys[1][pellet_ix, :, 1] for marker_xys in marker_xys_per_video]\n",
    "ss = [marker_xys[0][pellet_ix, :, 2] for marker_xys in marker_xys_per_video]\n",
    "pellet_x = anz.get_pellet_location(xs, ss, plot=False).mean()\n",
    "pellet_y = anz.get_pellet_location(ys, ss, plot=False).mean()\n",
    "pellet_z = anz.get_pellet_location(zs, ss, plot=False).mean()"
   ],
   "metadata": {
    "collapsed": false,
    "pycharm": {
     "name": "#%% pellet location\n"
    }
   }
  },
  {
   "cell_type": "code",
   "execution_count": 15,
   "outputs": [],
   "source": [
    "from scipy.ndimage import median_filter\n",
    "grab_bps_ix = [bp_dict[bp] for bp in BPS_TRACK_LOCATION]\n",
    "x_grab_offset = 0\n",
    "y_grab_offset = 0\n",
    "z_grab_offset = 0\n",
    "\n",
    "trajs = []\n",
    "grab_ixs = []\n",
    "i = 0\n",
    "upsample = 5\n",
    "for label_regions, marker_xys in zip(label_regions_per_video,\n",
    "                                     marker_xys_per_video):\n",
    "    dropped_regions = label_regions['dropped']\n",
    "    grabbed_regions = label_regions['grab']\n",
    "    chew_regions = label_regions['chew']\n",
    "    # chew region has to be greater than 50 consecutive\n",
    "    chew_regions = [x for x in chew_regions if (x[1]-x[0]) > 50]\n",
    "    # some insurance pellet drops at the start of trials, filter that out\n",
    "    dropped_regions = [x for x in dropped_regions if x[0] > 30]\n",
    "    outcome = anz.outcome_truth_table(dropped_regions,\n",
    "                                      chew_regions,\n",
    "                                      grabbed_regions)\n",
    "    grab_outcomes = anz.grab_truth_table(outcome,\n",
    "                                        grabbed_regions,\n",
    "                                        chew_regions,\n",
    "                                        dropped_regions)\n",
    "\n",
    "    grabs, extends, both = anz.anneal_labels(label_regions['extend'],\n",
    "                                             label_regions['grab'],\n",
    "                                             window=10)\n",
    "\n",
    "    scores_x = marker_xys[0][grab_bps_ix, :, 2]\n",
    "    scores_y = marker_xys[1][grab_bps_ix, :, 2]\n",
    "    xp = marker_xys[0][grab_bps_ix, :, 0] + x_grab_offset\n",
    "    yp = marker_xys[1][grab_bps_ix, :, 0] + y_grab_offset\n",
    "    zp = marker_xys[1][grab_bps_ix, :, 1] + z_grab_offset\n",
    "\n",
    "    for grab, extend, grab_extend, outcome in zip(grabs, extends, both,\n",
    "                                            grab_outcomes):\n",
    "        if outcome != base.GRABTYPES.SNATCHED:\n",
    "            continue\n",
    "\n",
    "        xtraj = np.mean(xp, axis=0)\n",
    "        ytraj = np.mean(yp, axis=0)\n",
    "        ztraj = np.mean(zp, axis=0)\n",
    "\n",
    "        ixs_x = anz._marker_label_intersects(scores_x,\n",
    "                                             grab_extend,\n",
    "                                             base.SCORE_THRESHOLD,\n",
    "                                             base.CRITERIA_CONTIGUOUS_FRAMES)\n",
    "        ixs_yz = anz._marker_label_intersects(scores_y,\n",
    "                                              grab_extend,\n",
    "                                              base.SCORE_THRESHOLD,\n",
    "                                              base.CRITERIA_CONTIGUOUS_FRAMES)\n",
    "        # linear interpolate\n",
    "        xtraj = anz.contiguous_interp(ixs_x, xtraj)\n",
    "        ytraj = anz.contiguous_interp(ixs_yz, ytraj)\n",
    "        ztraj = anz.contiguous_interp(ixs_yz, ztraj)\n",
    "\n",
    "        # median filter\n",
    "        xtraj = median_filter(xtraj, size=5)\n",
    "        ytraj = median_filter(ytraj, size=5)\n",
    "        ztraj = median_filter(ztraj, size=5)\n",
    "\n",
    "        # subset\n",
    "        s = np.max([ixs_x[0], ixs_yz[0]])\n",
    "        e = np.min([ixs_x[-1], ixs_yz[-1]])\n",
    "        xtraj, ytraj, ztraj = xtraj[s:e], ytraj[s:e], ztraj[s:e]\n",
    "        offset = s - extend[0]\n",
    "        assert offset >= 0, print(s, extend[0])\n",
    "\n",
    "        # spline\n",
    "        xtraj, ytraj, ztraj = anz.interpolate_polyline(\n",
    "            np.array([xtraj, ytraj, ztraj]).T,\n",
    "            len(xtraj) * upsample,\n",
    "            s=10)\n",
    "\n",
    "        trajs.append([xtraj, ytraj, ztraj, i])\n",
    "        grab_ixs.append(upsample * (4 + grab[0]-extend[0]-offset))\n",
    "    i+=1\n",
    "\n",
    "# plt.style.use('dark_background')\n",
    "azimuth = -60\n",
    "elevation = -170\n",
    "fig = plt.figure(figsize=(10, 10))\n",
    "ax = plt.axes(projection='3d')\n",
    "# viz.black_theme(fig, ax)\n",
    "viz.threedimstyle(fig, ax, elevation=-170, azimuth=-30)\n",
    "\n",
    "i, j = 0, 40\n",
    "ax.plot3D(pellet_x, pellet_y, pellet_z, 'o', alpha=0.2, markersize=100,\n",
    "          color='cyan')\n",
    "for ix, traj in zip(grab_ixs[i:j], trajs[i:j]):\n",
    "    # print(traj[3])\n",
    "    lines = ax.plot3D(traj[0][:ix], traj[1][:ix], traj[2][:ix], c='r',\n",
    "                  label=traj[3])\n",
    "    ax.plot3D(traj[0][ix-1:], traj[1][ix-1:], traj[2][ix-1:], c='g')\n",
    "\n",
    "def animate(f):\n",
    "    ax.view_init(elevation, azimuth - f)\n",
    "    return lines\n",
    "\n",
    "anim = animation.FuncAnimation(fig,\n",
    "                               animate,\n",
    "                               frames=360)\n",
    "sp = os.path.join(figure_path, 'reach_dynamics', 'still_animation.mp4')\n",
    "anim.save(sp,\n",
    "          fps= 20,\n",
    "          extra_args=['-vcodec', 'libx264'])"
   ],
   "metadata": {
    "collapsed": false,
    "pycharm": {
     "name": "#%%\n"
    }
   }
  },
  {
   "cell_type": "code",
   "execution_count": 9,
   "outputs": [],
   "source": [
    "i, j = 0, 40\n",
    "maxlen = np.max([x[0].shape[0] for x in trajs[i:j]])\n",
    "trailing = 6 * upsample\n",
    "plot_points_per_line = []\n",
    "for traj in trajs[i:j]:\n",
    "    points = np.array([traj[0], traj[1], traj[2]]).T\n",
    "    pad_len = maxlen - points.shape[0]\n",
    "    points = np.pad(points, ((0, pad_len), (0, 0)), 'edge')\n",
    "    plot_points = []\n",
    "    for ix in range(points.shape[0]-trailing):\n",
    "        plot_points.append(points[ix:ix+trailing])\n",
    "    plot_points_per_line.append(plot_points)"
   ],
   "metadata": {
    "collapsed": false,
    "pycharm": {
     "name": "#%% Making movie\n"
    }
   }
  },
  {
   "cell_type": "code",
   "execution_count": 10,
   "outputs": [
    {
     "name": "stdout",
     "output_type": "stream",
     "text": [
      "0\n",
      "0\n",
      "10\n",
      "20\n",
      "30\n",
      "40\n",
      "50\n",
      "60\n",
      "70\n",
      "80\n",
      "90\n",
      "100\n",
      "110\n",
      "120\n",
      "130\n",
      "140\n",
      "150\n",
      "160\n",
      "170\n",
      "180\n",
      "190\n",
      "200\n",
      "210\n",
      "220\n",
      "230\n",
      "240\n",
      "250\n",
      "260\n",
      "270\n",
      "done\n"
     ]
    }
   ],
   "source": [
    "azimuth = -60\n",
    "elevation = -170\n",
    "\n",
    "plt.style.use('dark_background')\n",
    "fig = plt.figure(figsize=(10, 10))\n",
    "ax = plt.axes(projection='3d')\n",
    "viz.black_theme(fig, ax)\n",
    "viz.threedimstyle(fig, ax, elevation=elevation, azimuth=azimuth)\n",
    "ax.set_xlim(160, 230)\n",
    "ax.set_ylim(140, 250)\n",
    "ax.set_zlim(110, 150)\n",
    "frame_rate = 200\n",
    "\n",
    "ax.plot3D(pellet_x, pellet_y, pellet_z-10, 'o', alpha=0.2, markersize=100,\n",
    "          color='cyan')\n",
    "lines = []\n",
    "for plot_points in plot_points_per_line:\n",
    "    little_lines = []\n",
    "    for i in np.arange(0, plot_points[0].shape[0]-1):\n",
    "        line, = ax.plot3D(plot_points[0][i:i+2,0],\n",
    "                          plot_points[0][i:i+2,1],\n",
    "                          plot_points[0][i:i+2,2],\n",
    "                          alpha=i/plot_points[0].shape[0],\n",
    "                          c='r')\n",
    "        little_lines.append(line)\n",
    "    lines.append(little_lines)\n",
    "\n",
    "def animate(f):\n",
    "    if f % 10 == 0:\n",
    "        print(f)\n",
    "    for plot_points, grab_ix, little_lines in zip(plot_points_per_line, grab_ixs,\n",
    "                                          lines):\n",
    "        for i, line in enumerate(little_lines):\n",
    "            line.set_data(plot_points[f][i:i+2,0],\n",
    "                          plot_points[f][i:i+2,1])\n",
    "            line.set_3d_properties(plot_points[f][i:i+2,2])\n",
    "            if f + i >= grab_ix:\n",
    "                line.set_color('g')\n",
    "        if f + trailing == grab_ix:\n",
    "            ax.scatter(plot_points[f][-1, 0],\n",
    "                        plot_points[f][-1, 1],\n",
    "                        plot_points[f][-1, 2],\n",
    "                        s=5,\n",
    "                        facecolors='none',\n",
    "                        edgecolors='g')\n",
    "    ax.set_title(f'{1000/frame_rate * f/upsample} ms')\n",
    "    return [x for y in lines for x in y]\n",
    "\n",
    "anim = animation.FuncAnimation(fig,\n",
    "                               animate,\n",
    "                               frames=maxlen-trailing,\n",
    "                               blit=True)\n",
    "sp = os.path.join(figure_path, 'reach_dynamics', 'animation.mp4')\n",
    "anim.save(sp,\n",
    "          fps= 5 * upsample,\n",
    "          extra_args=['-vcodec', 'libx264'])\n",
    "\n",
    "print('done')"
   ],
   "metadata": {
    "collapsed": false,
    "pycharm": {
     "name": "#%%\n"
    }
   }
  },
  {
   "cell_type": "code",
   "execution_count": 77,
   "outputs": [],
   "source": [],
   "metadata": {
    "collapsed": false,
    "pycharm": {
     "name": "#%%\n"
    }
   }
  }
 ],
 "metadata": {
  "kernelspec": {
   "display_name": "Python 3",
   "language": "python",
   "name": "python3"
  },
  "language_info": {
   "codemirror_mode": {
    "name": "ipython",
    "version": 2
   },
   "file_extension": ".py",
   "mimetype": "text/x-python",
   "name": "python",
   "nbconvert_exporter": "python",
   "pygments_lexer": "ipython2",
   "version": "2.7.6"
  }
 },
 "nbformat": 4,
 "nbformat_minor": 0
}