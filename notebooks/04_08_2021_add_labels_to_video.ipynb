{
 "cells": [
  {
   "cell_type": "code",
   "execution_count": 1,
   "metadata": {
    "collapsed": true
   },
   "outputs": [],
   "source": [
    "import cv2\n",
    "import numpy as np\n",
    "import os\n",
    "import skvideo.io\n",
    "import video_tools\n",
    "from moviepy.editor import VideoFileClip, clips_array\n",
    "import anz\n",
    "from matplotlib import colors"
   ]
  },
  {
   "cell_type": "code",
   "execution_count": 2,
   "outputs": [
    {
     "data": {
      "text/plain": "'C:\\\\Users\\\\Peter\\\\Desktop\\\\behavioral_analysis\\\\notebooks'"
     },
     "execution_count": 2,
     "metadata": {},
     "output_type": "execute_result"
    }
   ],
   "source": [
    "os.getcwd()"
   ],
   "metadata": {
    "collapsed": false,
    "pycharm": {
     "name": "#%%\n"
    }
   }
  },
  {
   "cell_type": "code",
   "execution_count": 47,
   "outputs": [
    {
     "name": "stderr",
     "output_type": "stream",
     "text": [
      "t:   2%|▏         | 2/110 [00:00<00:07, 14.60it/s, now=None]"
     ]
    },
    {
     "name": "stdout",
     "output_type": "stream",
     "text": [
      "Moviepy - Building video C:\\Users\\Peter\\Desktop\\behavioral_analysis\\notebooks\\OUTPUTS\\LABELLED_VIDEO\\M9_2021.03.09_00004_.avi.\n",
      "Moviepy - Writing video C:\\Users\\Peter\\Desktop\\behavioral_analysis\\notebooks\\OUTPUTS\\LABELLED_VIDEO\\M9_2021.03.09_00004_.avi\n",
      "\n"
     ]
    },
    {
     "name": "stderr",
     "output_type": "stream",
     "text": [
      "                                                              "
     ]
    },
    {
     "name": "stdout",
     "output_type": "stream",
     "text": [
      "Moviepy - Done !\n",
      "Moviepy - video ready C:\\Users\\Peter\\Desktop\\behavioral_analysis\\notebooks\\OUTPUTS\\LABELLED_VIDEO\\M9_2021.03.09_00004_.avi\n"
     ]
    },
    {
     "name": "stderr",
     "output_type": "stream",
     "text": [
      "\r"
     ]
    }
   ],
   "source": [
    "analyzed_dir = r'C:\\Users\\Peter\\Desktop\\DATA\\M9\\2021.03.09\\ANALYZED'\n",
    "d = os.path.join(analyzed_dir, 'VIDEOS_2D')\n",
    "ns = ['M9_2021.03.09_00004_CAM0.mp4', 'M9_2021.03.09_00004_CAM1.mp4']\n",
    "videos = [os.path.join(d, n) for n in ns]\n",
    "output_folder = os.path.join(os.getcwd(), 'OUTPUTS', 'LABELLED_VIDEO')\n",
    "output_name = os.path.join(output_folder, ns[0][:-8])\n",
    "os.makedirs(output_folder, exist_ok=True)\n",
    "\n",
    "cutoff_frames = 110\n",
    "frame_rate = 40 ### not the actual frame rate, just what is recorded in video\n",
    "seconds = cutoff_frames / frame_rate\n",
    "clip = VideoFileClip(videos[0]).subclip(0, seconds)\n",
    "clip1 = VideoFileClip(videos[1]).subclip(0, seconds)\n",
    "final_clip = clips_array([[clip, clip1]])\n",
    "final_clip.write_videofile(output_name + '.avi',\n",
    "                           codec='mjpeg',\n",
    "                           ffmpeg_params=['-pix_fmt', 'yuv420p',\n",
    "                                          '-qscale', '0',\n",
    "                                          ])"
   ],
   "metadata": {
    "collapsed": false,
    "pycharm": {
     "name": "#%%\n"
    }
   }
  },
  {
   "cell_type": "code",
   "execution_count": 40,
   "outputs": [],
   "source": [
    "label_regions_per_video, label_names = anz._get_labels(\n",
    "    os.path.join(analyzed_dir, 'LABELS'))\n",
    "\n",
    "labels = ['extend', 'grab', 'supinate', 'chew']\n",
    "labels_to_color = {'extend': 'red',\n",
    "                   'grab': 'green',\n",
    "                   'supinate': 'orange',\n",
    "                   'chew': 'green'}\n",
    "labels_to_color = {k: (255 * np.array(colors.to_rgb(v))).astype(int) for k, v in\n",
    "                   labels_to_color.items()}\n",
    "\n",
    "multiple = 30\n",
    "labels_yc = {x: 80 + i*multiple for i, x in enumerate(labels)}\n",
    "\n",
    "label_region = label_regions_per_video[4]\n",
    "for k, v in label_region.items():\n",
    "    temp = []\n",
    "    for i, pair in enumerate(v):\n",
    "        temp.append(list(range(pair[0], min(pair[1], cutoff_frames))))\n",
    "    temp = [x for y in temp for x in y]\n",
    "    label_region[k] = temp"
   ],
   "metadata": {
    "collapsed": false,
    "pycharm": {
     "name": "#%%\n"
    }
   }
  },
  {
   "cell_type": "code",
   "execution_count": 48,
   "outputs": [],
   "source": [
    "# Create a VideoCapture object\n",
    "cap = cv2.VideoCapture(output_name)\n",
    "fps = cap.get(cv2.CAP_PROP_FPS)\n",
    "frames = int(cap.get(cv2.CAP_PROP_FRAME_COUNT))\n",
    "\n",
    "writer = skvideo.io.FFmpegWriter(output_name + '_labeled.avi',\n",
    "                                 inputdict={\n",
    "                                     '-hwaccel': 'auto',\n",
    "                                     '-framerate': str(200),\n",
    "                                 },\n",
    "                                 outputdict={\n",
    "                                     '-vcodec': 'mjpeg',\n",
    "                                     '-qp': '25',\n",
    "                                     '-qscale': '0',\n",
    "                                     '-pix_fmt': 'yuv420p',\n",
    "                                 })\n",
    "\n",
    "font = cv2.FONT_HERSHEY_SIMPLEX\n",
    "for i in range(frames):\n",
    "    ret, frame = cap.read()\n",
    "    if not ret:\n",
    "        break\n",
    "    img = cv2.cvtColor(frame, cv2.COLOR_BGR2RGB)\n",
    "    img = cv2.putText(img,\n",
    "                      str(i),\n",
    "                      (40, 40),\n",
    "                      font,\n",
    "                      1,\n",
    "                      (255, 255, 255),\n",
    "                      2,\n",
    "                      cv2.LINE_4)\n",
    "    x = 20\n",
    "    for k, v in label_region.items():\n",
    "        if i in v and k in labels:\n",
    "            y = labels_yc[k]\n",
    "            c = labels_to_color[k]\n",
    "\n",
    "            img = cv2.rectangle(img,\n",
    "                                (x, y-25),\n",
    "                                (x+140, y+10),\n",
    "                                (int(c[0]), int(c[1]), int(c[2])),\n",
    "                                cv2.FILLED)\n",
    "            img = cv2.putText(img,\n",
    "                              k,\n",
    "                              (x, y),\n",
    "                              font,\n",
    "                              1,\n",
    "                              (255, 255, 255),\n",
    "                              2,\n",
    "                              cv2.LINE_8)\n",
    "    writer.writeFrame(img)\n",
    "cap.release()\n",
    "writer.close()\n",
    "cv2.destroyAllWindows()"
   ],
   "metadata": {
    "collapsed": false,
    "pycharm": {
     "name": "#%%\n"
    }
   }
  },
  {
   "cell_type": "code",
   "execution_count": null,
   "outputs": [],
   "source": [],
   "metadata": {
    "collapsed": false,
    "pycharm": {
     "name": "#%%\n"
    }
   }
  }
 ],
 "metadata": {
  "kernelspec": {
   "display_name": "Python 3",
   "language": "python",
   "name": "python3"
  },
  "language_info": {
   "codemirror_mode": {
    "name": "ipython",
    "version": 2
   },
   "file_extension": ".py",
   "mimetype": "text/x-python",
   "name": "python",
   "nbconvert_exporter": "python",
   "pygments_lexer": "ipython2",
   "version": "2.7.6"
  }
 },
 "nbformat": 4,
 "nbformat_minor": 0
}