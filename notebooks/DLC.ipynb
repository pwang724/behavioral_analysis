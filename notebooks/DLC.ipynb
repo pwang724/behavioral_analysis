{
 "cells": [
  {
   "cell_type": "code",
   "execution_count": 1,
   "id": "diverse-forth",
   "metadata": {},
   "outputs": [],
   "source": [
    "%matplotlib inline"
   ]
  },
  {
   "cell_type": "code",
   "execution_count": 2,
   "id": "heard-evans",
   "metadata": {},
   "outputs": [
    {
     "name": "stderr",
     "output_type": "stream",
     "text": [
      "C:\\Users\\Peter_Wang_Alienware\\anaconda3\\envs\\behavioral_analysis_tf1\\lib\\site-packages\\tensorflow\\python\\framework\\dtypes.py:526: FutureWarning: Passing (type, 1) or '1type' as a synonym of type is deprecated; in a future version of numpy, it will be understood as (type, (1,)) / '(1,)type'.\n",
      "  _np_qint8 = np.dtype([(\"qint8\", np.int8, 1)])\n",
      "C:\\Users\\Peter_Wang_Alienware\\anaconda3\\envs\\behavioral_analysis_tf1\\lib\\site-packages\\tensorflow\\python\\framework\\dtypes.py:527: FutureWarning: Passing (type, 1) or '1type' as a synonym of type is deprecated; in a future version of numpy, it will be understood as (type, (1,)) / '(1,)type'.\n",
      "  _np_quint8 = np.dtype([(\"quint8\", np.uint8, 1)])\n",
      "C:\\Users\\Peter_Wang_Alienware\\anaconda3\\envs\\behavioral_analysis_tf1\\lib\\site-packages\\tensorflow\\python\\framework\\dtypes.py:528: FutureWarning: Passing (type, 1) or '1type' as a synonym of type is deprecated; in a future version of numpy, it will be understood as (type, (1,)) / '(1,)type'.\n",
      "  _np_qint16 = np.dtype([(\"qint16\", np.int16, 1)])\n",
      "C:\\Users\\Peter_Wang_Alienware\\anaconda3\\envs\\behavioral_analysis_tf1\\lib\\site-packages\\tensorflow\\python\\framework\\dtypes.py:529: FutureWarning: Passing (type, 1) or '1type' as a synonym of type is deprecated; in a future version of numpy, it will be understood as (type, (1,)) / '(1,)type'.\n",
      "  _np_quint16 = np.dtype([(\"quint16\", np.uint16, 1)])\n",
      "C:\\Users\\Peter_Wang_Alienware\\anaconda3\\envs\\behavioral_analysis_tf1\\lib\\site-packages\\tensorflow\\python\\framework\\dtypes.py:530: FutureWarning: Passing (type, 1) or '1type' as a synonym of type is deprecated; in a future version of numpy, it will be understood as (type, (1,)) / '(1,)type'.\n",
      "  _np_qint32 = np.dtype([(\"qint32\", np.int32, 1)])\n",
      "C:\\Users\\Peter_Wang_Alienware\\anaconda3\\envs\\behavioral_analysis_tf1\\lib\\site-packages\\tensorflow\\python\\framework\\dtypes.py:535: FutureWarning: Passing (type, 1) or '1type' as a synonym of type is deprecated; in a future version of numpy, it will be understood as (type, (1,)) / '(1,)type'.\n",
      "  np_resource = np.dtype([(\"resource\", np.ubyte, 1)])\n"
     ]
    }
   ],
   "source": [
    "import deeplabcut as dlc\n",
    "import numpy as np\n",
    "import os \n",
    "import glob\n",
    "import imageio\n",
    "import itertools"
   ]
  },
  {
   "cell_type": "markdown",
   "id": "primary-delaware",
   "metadata": {},
   "source": [
    "### Helper functions"
   ]
  },
  {
   "cell_type": "code",
   "execution_count": null,
   "id": "severe-archive",
   "metadata": {},
   "outputs": [],
   "source": [
    "def get_files(source, wcs=['_FRONT.avi']):\n",
    "    matches = []\n",
    "    for root, dirnames, filenames in os.walk(source):\n",
    "        for filename in filenames:\n",
    "            if filename.endswith(tuple(wcs)):\n",
    "                matches.append(os.path.join(root, filename))\n",
    "    return matches"
   ]
  },
  {
   "cell_type": "code",
   "execution_count": null,
   "id": "heated-cannon",
   "metadata": {},
   "outputs": [],
   "source": [
    "def print_dict(ddict, length=True):\n",
    "    for k, v in ddict.items():\n",
    "        if length:\n",
    "            print(f'{k}: {len(v)}')\n",
    "        else:\n",
    "            print(f'{k}: {v}')"
   ]
  },
  {
   "cell_type": "markdown",
   "id": "champion-tucson",
   "metadata": {},
   "source": [
    "### Load images "
   ]
  },
  {
   "cell_type": "code",
   "execution_count": null,
   "id": "composite-helen",
   "metadata": {},
   "outputs": [],
   "source": [
    "parent_directory = r'C:\\Users\\Peter\\Desktop\\DLC'\n",
    "project_directory = os.path.join(parent_directory, 'project')"
   ]
  },
  {
   "cell_type": "code",
   "execution_count": null,
   "id": "informed-exercise",
   "metadata": {},
   "outputs": [],
   "source": [
    "image_master_dir = os.path.join(parent_directory, 'M7')\n",
    "image_dirs = [os.path.join(image_master_dir, x) for x in os.listdir(image_master_dir)]\n",
    "image_dirs = [x for x in image_dirs if os.path.isdir(x)]\n",
    "dict_of_avis = {x: get_files(x) for x in image_dirs}\n",
    "print_dict(dict_of_avis)"
   ]
  },
  {
   "cell_type": "markdown",
   "id": "medium-mechanism",
   "metadata": {},
   "source": [
    "Select subset of images to train. Make sure to include empty pellets, successes, failures "
   ]
  },
  {
   "cell_type": "code",
   "execution_count": null,
   "id": "female-outdoors",
   "metadata": {},
   "outputs": [],
   "source": [
    "selection_dict = {\n",
    "    r'C:\\Users\\Peter\\Desktop\\DLC\\M7\\2021-02-16': list(range(20, 30)),\n",
    "    r'C:\\Users\\Peter\\Desktop\\DLC\\M7\\2021-02-17': list(range(60, 70)),\n",
    "    r'C:\\Users\\Peter\\Desktop\\DLC\\M7\\2021-02-20': list(range(0, 10)),\n",
    "    r'C:\\Users\\Peter\\Desktop\\DLC\\M7\\2021-02-21': list(range(30, 40))\n",
    "                                                      }"
   ]
  },
  {
   "cell_type": "code",
   "execution_count": null,
   "id": "younger-optimization",
   "metadata": {},
   "outputs": [],
   "source": [
    "image_master_dir = os.path.join(parent_directory, 'M7')\n",
    "image_dirs = [os.path.join(image_master_dir, x) for x in os.listdir(image_master_dir)]\n",
    "image_dirs = [x for x in image_dirs if os.path.isdir(x)]\n",
    "dict_of_avis = {x: get_files(x) for x in image_dirs}\n",
    "for k, v in dict_of_avis.items():\n",
    "    v = np.array(v)\n",
    "    dict_of_avis[k] = list(v[selection_dict[k]])\n",
    "print_dict(dict_of_avis, length=True)"
   ]
  },
  {
   "cell_type": "code",
   "execution_count": null,
   "id": "heard-communications",
   "metadata": {},
   "outputs": [],
   "source": [
    "list_of_avis = list(itertools.chain(*dict_of_avis.values()))\n",
    "print(len(list_of_avis))"
   ]
  },
  {
   "cell_type": "markdown",
   "id": "incident-guest",
   "metadata": {},
   "source": [
    "### Load images temp"
   ]
  },
  {
   "cell_type": "code",
   "execution_count": 3,
   "id": "adverse-opera",
   "metadata": {},
   "outputs": [],
   "source": [
    "parent_directory = r'C:\\Users\\Peter_Wang_Alienware\\Desktop\\DLC'\n",
    "video_directory = r'C:\\Users\\Peter_Wang_Alienware\\Desktop\\DLC\\data\\videos'"
   ]
  },
  {
   "cell_type": "markdown",
   "id": "eleven-roulette",
   "metadata": {},
   "source": [
    "### Create project"
   ]
  },
  {
   "cell_type": "code",
   "execution_count": 4,
   "id": "right-reception",
   "metadata": {},
   "outputs": [
    {
     "name": "stdout",
     "output_type": "stream",
     "text": [
      "Project \"C:\\Users\\Peter_Wang_Alienware\\Desktop\\DLC\\test-pw-2021-02-25\" already exists!\n"
     ]
    }
   ],
   "source": [
    "# DO ONCE\n",
    "config_path = dlc.create_new_project('test', \n",
    "                                     'pw', \n",
    "                                     videos=[video_directory],\n",
    "                                    working_directory=parent_directory)\n",
    "config_path = r\"C:\\Users\\Peter_Wang_Alienware\\Desktop\\DLC\\test-pw-2021-02-25\\config.yaml\""
   ]
  },
  {
   "cell_type": "code",
   "execution_count": 5,
   "id": "above-arthritis",
   "metadata": {},
   "outputs": [
    {
     "name": "stdout",
     "output_type": "stream",
     "text": [
      "Quitting for now!\n"
     ]
    }
   ],
   "source": [
    "dlc.extract_frames(config_path, \n",
    "                   mode='manual',\n",
    "                   algo='kmeans',\n",
    "                   crop=True,\n",
    "                   userfeedback=False)"
   ]
  },
  {
   "cell_type": "code",
   "execution_count": 7,
   "id": "guilty-rating",
   "metadata": {},
   "outputs": [],
   "source": [
    "dlc.label_frames(config_path)"
   ]
  },
  {
   "cell_type": "code",
   "execution_count": null,
   "id": "floating-assignment",
   "metadata": {},
   "outputs": [],
   "source": [
    "dlc.create_training_dataset(config_path, augmenter_type='imgaug')"
   ]
  },
  {
   "cell_type": "code",
   "execution_count": null,
   "id": "exotic-noise",
   "metadata": {},
   "outputs": [],
   "source": [
    "### train network with DLC 2.0"
   ]
  },
  {
   "cell_type": "code",
   "execution_count": null,
   "id": "integral-ridge",
   "metadata": {},
   "outputs": [],
   "source": [
    "dlc.train_network(config_path, displayiters=1000, saveiters=10000, )"
   ]
  },
  {
   "cell_type": "code",
   "execution_count": null,
   "id": "alert-philosophy",
   "metadata": {},
   "outputs": [],
   "source": [
    "# dlc.extract_outlier_frames(config_path, [r'C:\\Users\\Peter\\Desktop\\DLC\\proj-pw-2021-02-11\\videos'])"
   ]
  }
 ],
 "metadata": {
  "kernelspec": {
   "display_name": "Python [conda env:behavioral_analysis_tf1] *",
   "language": "python",
   "name": "conda-env-behavioral_analysis_tf1-py"
  },
  "language_info": {
   "codemirror_mode": {
    "name": "ipython",
    "version": 3
   },
   "file_extension": ".py",
   "mimetype": "text/x-python",
   "name": "python",
   "nbconvert_exporter": "python",
   "pygments_lexer": "ipython3",
   "version": "3.6.12"
  }
 },
 "nbformat": 4,
 "nbformat_minor": 5
}
