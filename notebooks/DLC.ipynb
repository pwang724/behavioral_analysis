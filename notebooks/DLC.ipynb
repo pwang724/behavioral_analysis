{
 "cells": [
  {
   "cell_type": "code",
   "execution_count": 5,
   "id": "diverse-forth",
   "metadata": {},
   "outputs": [],
   "source": [
    "%matplotlib inline"
   ]
  },
  {
   "cell_type": "code",
   "execution_count": 6,
   "id": "heard-evans",
   "metadata": {},
   "outputs": [],
   "source": [
    "import deeplabcut as dlc\n",
    "import numpy as np\n",
    "import os \n",
    "import glob\n",
    "import imageio\n",
    "import itertools"
   ]
  },
  {
   "cell_type": "markdown",
   "id": "primary-delaware",
   "metadata": {},
   "source": [
    "### Helper functions"
   ]
  },
  {
   "cell_type": "code",
   "execution_count": 7,
   "id": "severe-archive",
   "metadata": {},
   "outputs": [],
   "source": [
    "def get_files(source, wcs=['_FRONT.avi']):\n",
    "    matches = []\n",
    "    for root, dirnames, filenames in os.walk(source):\n",
    "        for filename in filenames:\n",
    "            if filename.endswith(tuple(wcs)):\n",
    "                matches.append(os.path.join(root, filename))\n",
    "    return matches"
   ]
  },
  {
   "cell_type": "code",
   "execution_count": 8,
   "id": "heated-cannon",
   "metadata": {},
   "outputs": [],
   "source": [
    "def print_dict(ddict, length=True):\n",
    "    for k, v in ddict.items():\n",
    "        if length:\n",
    "            print(f'{k}: {len(v)}')\n",
    "        else:\n",
    "            print(f'{k}: {v}')"
   ]
  },
  {
   "cell_type": "markdown",
   "id": "champion-tucson",
   "metadata": {},
   "source": [
    "### Load images "
   ]
  },
  {
   "cell_type": "code",
   "execution_count": 9,
   "id": "composite-helen",
   "metadata": {},
   "outputs": [],
   "source": [
    "parent_directory = r'C:\\Users\\Peter\\Desktop\\DLC'\n",
    "project_directory = os.path.join(parent_directory, 'project')"
   ]
  },
  {
   "cell_type": "code",
   "execution_count": 10,
   "id": "informed-exercise",
   "metadata": {},
   "outputs": [
    {
     "name": "stdout",
     "output_type": "stream",
     "text": [
      "C:\\Users\\Peter\\Desktop\\DLC\\M7\\2021-02-16: 96\n",
      "C:\\Users\\Peter\\Desktop\\DLC\\M7\\2021-02-17: 80\n",
      "C:\\Users\\Peter\\Desktop\\DLC\\M7\\2021-02-20: 65\n",
      "C:\\Users\\Peter\\Desktop\\DLC\\M7\\2021-02-21: 50\n"
     ]
    }
   ],
   "source": [
    "image_master_dir = os.path.join(parent_directory, 'M7')\n",
    "image_dirs = [os.path.join(image_master_dir, x) for x in os.listdir(image_master_dir)]\n",
    "image_dirs = [x for x in image_dirs if os.path.isdir(x)]\n",
    "dict_of_avis = {x: get_files(x) for x in image_dirs}\n",
    "print_dict(dict_of_avis)"
   ]
  },
  {
   "cell_type": "markdown",
   "id": "medium-mechanism",
   "metadata": {},
   "source": [
    "Select subset of images to train. Make sure to include empty pellets, successes, failures "
   ]
  },
  {
   "cell_type": "code",
   "execution_count": 11,
   "id": "female-outdoors",
   "metadata": {},
   "outputs": [],
   "source": [
    "selection_dict = {\n",
    "    r'C:\\Users\\Peter\\Desktop\\DLC\\M7\\2021-02-16': list(range(20, 30)),\n",
    "    r'C:\\Users\\Peter\\Desktop\\DLC\\M7\\2021-02-17': list(range(60, 70)),\n",
    "    r'C:\\Users\\Peter\\Desktop\\DLC\\M7\\2021-02-20': list(range(0, 10)),\n",
    "    r'C:\\Users\\Peter\\Desktop\\DLC\\M7\\2021-02-21': list(range(30, 40))\n",
    "                                                      }"
   ]
  },
  {
   "cell_type": "code",
   "execution_count": 12,
   "id": "younger-optimization",
   "metadata": {},
   "outputs": [
    {
     "name": "stdout",
     "output_type": "stream",
     "text": [
      "C:\\Users\\Peter\\Desktop\\DLC\\M7\\2021-02-16: 10\n",
      "C:\\Users\\Peter\\Desktop\\DLC\\M7\\2021-02-17: 10\n",
      "C:\\Users\\Peter\\Desktop\\DLC\\M7\\2021-02-20: 10\n",
      "C:\\Users\\Peter\\Desktop\\DLC\\M7\\2021-02-21: 10\n"
     ]
    }
   ],
   "source": [
    "image_master_dir = os.path.join(parent_directory, 'M7')\n",
    "image_dirs = [os.path.join(image_master_dir, x) for x in os.listdir(image_master_dir)]\n",
    "image_dirs = [x for x in image_dirs if os.path.isdir(x)]\n",
    "dict_of_avis = {x: get_files(x) for x in image_dirs}\n",
    "for k, v in dict_of_avis.items():\n",
    "    v = np.array(v)\n",
    "    dict_of_avis[k] = list(v[selection_dict[k]])\n",
    "print_dict(dict_of_avis, length=True)"
   ]
  },
  {
   "cell_type": "code",
   "execution_count": 13,
   "id": "heard-communications",
   "metadata": {},
   "outputs": [
    {
     "name": "stdout",
     "output_type": "stream",
     "text": [
      "40\n"
     ]
    }
   ],
   "source": [
    "list_of_avis = list(itertools.chain(*dict_of_avis.values()))\n",
    "print(len(list_of_avis))"
   ]
  },
  {
   "cell_type": "markdown",
   "id": "eleven-roulette",
   "metadata": {},
   "source": [
    "### Create project"
   ]
  },
  {
   "cell_type": "code",
   "execution_count": 14,
   "id": "right-reception",
   "metadata": {},
   "outputs": [
    {
     "name": "stdout",
     "output_type": "stream",
     "text": [
      "Project \"C:\\Users\\Peter\\Desktop\\DLC\\project-pw-2021-02-24\" already exists!\n"
     ]
    }
   ],
   "source": [
    "# DO ONCE\n",
    "config_path = dlc.create_new_project('paw', \n",
    "                                     'pw', \n",
    "                                     videos=list_of_avis)\n",
    "config_path = r\"C:\\Users\\Peter\\Desktop\\DLC\\project-pw-2021-02-24\\config.yaml\""
   ]
  },
  {
   "cell_type": "code",
   "execution_count": 15,
   "id": "above-arthritis",
   "metadata": {},
   "outputs": [
    {
     "ename": "RuntimeError",
     "evalue": "wrapped C/C++ object of type FileDialog has been deleted",
     "output_type": "error",
     "traceback": [
      "\u001b[1;31m---------------------------------------------------------------------------\u001b[0m",
      "\u001b[1;31mRuntimeError\u001b[0m                              Traceback (most recent call last)",
      "\u001b[1;32m~\\anaconda3\\envs\\behavior_analysis\\lib\\site-packages\\deeplabcut\\generate_training_dataset\\frame_extraction_toolbox.py\u001b[0m in \u001b[0;36mbrowseDir\u001b[1;34m(self, event)\u001b[0m\n\u001b[0;32m    356\u001b[0m             \u001b[0mdlg\u001b[0m\u001b[1;33m.\u001b[0m\u001b[0mDestroy\u001b[0m\u001b[1;33m(\u001b[0m\u001b[1;33m)\u001b[0m\u001b[1;33m\u001b[0m\u001b[1;33m\u001b[0m\u001b[0m\n\u001b[0;32m    357\u001b[0m             \u001b[0mself\u001b[0m\u001b[1;33m.\u001b[0m\u001b[0mClose\u001b[0m\u001b[1;33m(\u001b[0m\u001b[1;32mTrue\u001b[0m\u001b[1;33m)\u001b[0m\u001b[1;33m\u001b[0m\u001b[1;33m\u001b[0m\u001b[0m\n\u001b[1;32m--> 358\u001b[1;33m         \u001b[0mdlg\u001b[0m\u001b[1;33m.\u001b[0m\u001b[0mDestroy\u001b[0m\u001b[1;33m(\u001b[0m\u001b[1;33m)\u001b[0m\u001b[1;33m\u001b[0m\u001b[1;33m\u001b[0m\u001b[0m\n\u001b[0m\u001b[0;32m    359\u001b[0m         \u001b[0mselectedvideo\u001b[0m \u001b[1;33m=\u001b[0m \u001b[0mPath\u001b[0m\u001b[1;33m(\u001b[0m\u001b[0mself\u001b[0m\u001b[1;33m.\u001b[0m\u001b[0mvideo_source\u001b[0m\u001b[1;33m)\u001b[0m\u001b[1;33m\u001b[0m\u001b[1;33m\u001b[0m\u001b[0m\n\u001b[0;32m    360\u001b[0m \u001b[1;33m\u001b[0m\u001b[0m\n",
      "\u001b[1;31mRuntimeError\u001b[0m: wrapped C/C++ object of type FileDialog has been deleted"
     ]
    }
   ],
   "source": [
    "dlc.extract_frames(config_path, \n",
    "                  mode='manual',\n",
    "                  algo='kmeans',\n",
    "                  crop=True,\n",
    "                  userfeedback=False)"
   ]
  },
  {
   "cell_type": "code",
   "execution_count": 19,
   "id": "exotic-noise",
   "metadata": {},
   "outputs": [],
   "source": [
    "### train network with DLC 2.0"
   ]
  },
  {
   "cell_type": "code",
   "execution_count": 13,
   "id": "alert-philosophy",
   "metadata": {},
   "outputs": [],
   "source": [
    "# dlc.extract_outlier_frames(config_path, [r'C:\\Users\\Peter\\Desktop\\DLC\\proj-pw-2021-02-11\\videos'])"
   ]
  }
 ],
 "metadata": {
  "kernelspec": {
   "display_name": "Python [conda env:behavior_analysis]",
   "language": "python",
   "name": "conda-env-behavior_analysis-py"
  },
  "language_info": {
   "codemirror_mode": {
    "name": "ipython",
    "version": 3
   },
   "file_extension": ".py",
   "mimetype": "text/x-python",
   "name": "python",
   "nbconvert_exporter": "python",
   "pygments_lexer": "ipython3",
   "version": "3.6.12"
  }
 },
 "nbformat": 4,
 "nbformat_minor": 5
}
