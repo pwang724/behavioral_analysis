{
 "cells": [
  {
   "cell_type": "code",
   "execution_count": 2,
   "outputs": [
    {
     "name": "stderr",
     "output_type": "stream",
     "text": [
      "t:   0%|          | 2/1600 [00:00<01:29, 17.86it/s, now=None]"
     ]
    },
    {
     "name": "stdout",
     "output_type": "stream",
     "text": [
      "Moviepy - Building video C:\\Users\\Peter\\Desktop\\DATA\\M4\\2021_03_10\\ANALYZED\\COLLAGE\\0-19.mp4.\n",
      "Moviepy - Writing video C:\\Users\\Peter\\Desktop\\DATA\\M4\\2021_03_10\\ANALYZED\\COLLAGE\\0-19.mp4\n",
      "\n"
     ]
    },
    {
     "name": "stderr",
     "output_type": "stream",
     "text": [
      "                                                                \r"
     ]
    },
    {
     "name": "stdout",
     "output_type": "stream",
     "text": [
      "Moviepy - Done !\n",
      "Moviepy - video ready C:\\Users\\Peter\\Desktop\\DATA\\M4\\2021_03_10\\ANALYZED\\COLLAGE\\0-19.mp4\n"
     ]
    },
    {
     "name": "stderr",
     "output_type": "stream",
     "text": [
      "t:   0%|          | 0/1600 [00:00<?, ?it/s, now=None]"
     ]
    },
    {
     "name": "stdout",
     "output_type": "stream",
     "text": [
      "Moviepy - Building video C:\\Users\\Peter\\Desktop\\DATA\\M4\\2021_03_10\\ANALYZED\\COLLAGE\\20-39.mp4.\n",
      "Moviepy - Writing video C:\\Users\\Peter\\Desktop\\DATA\\M4\\2021_03_10\\ANALYZED\\COLLAGE\\20-39.mp4\n",
      "\n"
     ]
    },
    {
     "name": "stderr",
     "output_type": "stream",
     "text": [
      "                                                                \r"
     ]
    },
    {
     "name": "stdout",
     "output_type": "stream",
     "text": [
      "Moviepy - Done !\n",
      "Moviepy - video ready C:\\Users\\Peter\\Desktop\\DATA\\M4\\2021_03_10\\ANALYZED\\COLLAGE\\20-39.mp4\n"
     ]
    },
    {
     "name": "stderr",
     "output_type": "stream",
     "text": [
      "t:   0%|          | 2/1600 [00:00<01:39, 16.13it/s, now=None]"
     ]
    },
    {
     "name": "stdout",
     "output_type": "stream",
     "text": [
      "Moviepy - Building video C:\\Users\\Peter\\Desktop\\DATA\\M4\\2021_03_10\\ANALYZED\\COLLAGE\\40-59.mp4.\n",
      "Moviepy - Writing video C:\\Users\\Peter\\Desktop\\DATA\\M4\\2021_03_10\\ANALYZED\\COLLAGE\\40-59.mp4\n",
      "\n"
     ]
    },
    {
     "name": "stderr",
     "output_type": "stream",
     "text": [
      "                                                                "
     ]
    },
    {
     "name": "stdout",
     "output_type": "stream",
     "text": [
      "Moviepy - Done !\n",
      "Moviepy - video ready C:\\Users\\Peter\\Desktop\\DATA\\M4\\2021_03_10\\ANALYZED\\COLLAGE\\40-59.mp4\n"
     ]
    },
    {
     "name": "stderr",
     "output_type": "stream",
     "text": [
      "\r"
     ]
    }
   ],
   "source": [
    "import os\n",
    "from moviepy.editor import VideoFileClip, clips_array\n",
    "from moviepy.video.fx.all import crop\n",
    "import numpy as np\n",
    "\n",
    "def make_collage(videos0, width, height, collage_folder):\n",
    "    os.makedirs(collage_folder, exist_ok=True)\n",
    "    n_collages = int(np.ceil(len(videos0)/(width*height)))\n",
    "    for n in range(n_collages):\n",
    "        start_ix = n * width * height\n",
    "        clips_arr = []\n",
    "        for h in range(height):\n",
    "            temp = []\n",
    "            for w in range(width):\n",
    "                ix = h * width + w + start_ix\n",
    "                if ix < len(videos0):\n",
    "                    clip = VideoFileClip(videos0[ix])\n",
    "                    clip = crop(clip, x1=100, y1=0, x2=350, y2=190)\n",
    "                    clip = clip.resize(width=125)\n",
    "                    temp.append(clip)\n",
    "                else:\n",
    "                    clip = VideoFileClip(videos0[-1])\n",
    "                    clip = crop(clip, x1=100, y1=0, x2=350, y2=190)\n",
    "                    clip = clip.resize(width=5)\n",
    "                    temp.append(clip)\n",
    "\n",
    "            clips_arr.append(temp)\n",
    "        pn = os.path.join(collage_folder,\n",
    "                          f'{start_ix}-{start_ix + width*height-1}.mp4')\n",
    "        final_clip = clips_array(clips_arr)\n",
    "        final_clip.write_videofile(pn, codec='libx264')\n",
    "\n",
    "desktop_directory = os.path.join(r'C:\\Users',\n",
    "                                 os.getlogin(),\n",
    "                                 'Desktop')\n",
    "input_folder = os.path.join(desktop_directory, r'DATA\\M4\\2021_03_10')\n",
    "collage_folder = os.path.join(input_folder, 'ANALYZED', 'COLLAGE')\n",
    "\n",
    "videos0 = [os.path.join(input_folder, x) for x in os.listdir(input_folder)\n",
    "           if 'CAM0' in x]\n",
    "videos0 = sorted(videos0)\n",
    "make_collage(videos0, width=5, height=4, collage_folder=collage_folder)\n"
   ],
   "metadata": {
    "collapsed": false,
    "pycharm": {
     "name": "#%%\n"
    }
   }
  },
  {
   "cell_type": "code",
   "execution_count": null,
   "outputs": [],
   "source": [],
   "metadata": {
    "collapsed": false,
    "pycharm": {
     "name": "#%%\n"
    }
   }
  }
 ],
 "metadata": {
  "kernelspec": {
   "display_name": "Python 3",
   "language": "python",
   "name": "python3"
  },
  "language_info": {
   "codemirror_mode": {
    "name": "ipython",
    "version": 2
   },
   "file_extension": ".py",
   "mimetype": "text/x-python",
   "name": "python",
   "nbconvert_exporter": "python",
   "pygments_lexer": "ipython2",
   "version": "2.7.6"
  }
 },
 "nbformat": 4,
 "nbformat_minor": 0
}